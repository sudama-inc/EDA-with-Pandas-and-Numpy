{
  "nbformat": 4,
  "nbformat_minor": 0,
  "metadata": {
    "colab": {
      "provenance": [],
      "authorship_tag": "ABX9TyMWrmUvfcwN/S044I/vIYAq",
      "include_colab_link": true
    },
    "kernelspec": {
      "name": "python3",
      "display_name": "Python 3"
    },
    "language_info": {
      "name": "python"
    }
  },
  "cells": [
    {
      "cell_type": "markdown",
      "metadata": {
        "id": "view-in-github",
        "colab_type": "text"
      },
      "source": [
        "<a href=\"https://colab.research.google.com/github/sudama-inc/EDA-with-Pandas-and-Numpy/blob/main/pandas_ai.ipynb\" target=\"_parent\"><img src=\"https://colab.research.google.com/assets/colab-badge.svg\" alt=\"Open In Colab\"/></a>"
      ]
    },
    {
      "cell_type": "markdown",
      "source": [
        "### Pandas Integration with Sketch"
      ],
      "metadata": {
        "id": "i5rwqTHdqxsE"
      }
    },
    {
      "cell_type": "code",
      "source": [
        "# !pip install sketch"
      ],
      "metadata": {
        "id": "k8EAXV2kq5Yp"
      },
      "execution_count": 4,
      "outputs": []
    },
    {
      "cell_type": "code",
      "source": [
        "import pandas as pd\n",
        "import sketch"
      ],
      "metadata": {
        "id": "TZ1QJyW0q7mc"
      },
      "execution_count": 2,
      "outputs": []
    },
    {
      "cell_type": "code",
      "source": [
        "df = pd.read_csv(\"https://raw.githubusercontent.com/Sven-Bo/datasets/master/supermarket_sales.csv\")\n",
        "df.head(2)"
      ],
      "metadata": {
        "colab": {
          "base_uri": "https://localhost:8080/",
          "height": 246
        },
        "id": "rkBeI0M3q-Sa",
        "outputId": "e03c7336-6eee-41a6-e6dd-9bfb7b671b0d"
      },
      "execution_count": 5,
      "outputs": [
        {
          "output_type": "execute_result",
          "data": {
            "text/plain": [
              "    Invoice ID Branch       City Customer_type  Gender  \\\n",
              "0  750-67-8428      A     Yangon        Member  Female   \n",
              "1  226-31-3081      C  Naypyitaw        Normal  Female   \n",
              "\n",
              "             Product line  Unit price  Quantity   Tax 5%     Total      Date  \\\n",
              "0       Health and beauty       74.69         7  26.1415  548.9715  1/5/2021   \n",
              "1  Electronic accessories       15.28         5   3.8200   80.2200  3/8/2021   \n",
              "\n",
              "    Time  Payment    cogs  gross margin percentage  gross income  Rating  \n",
              "0  13:08  Ewallet  522.83                 4.761905       26.1415     9.1  \n",
              "1  10:29     Cash   76.40                 4.761905        3.8200     9.6  "
            ],
            "text/html": [
              "\n",
              "\n",
              "  <div id=\"df-696b4e0f-7028-4cb0-bd24-01cb73781a39\">\n",
              "    <div class=\"colab-df-container\">\n",
              "      <div>\n",
              "<style scoped>\n",
              "    .dataframe tbody tr th:only-of-type {\n",
              "        vertical-align: middle;\n",
              "    }\n",
              "\n",
              "    .dataframe tbody tr th {\n",
              "        vertical-align: top;\n",
              "    }\n",
              "\n",
              "    .dataframe thead th {\n",
              "        text-align: right;\n",
              "    }\n",
              "</style>\n",
              "<table border=\"1\" class=\"dataframe\">\n",
              "  <thead>\n",
              "    <tr style=\"text-align: right;\">\n",
              "      <th></th>\n",
              "      <th>Invoice ID</th>\n",
              "      <th>Branch</th>\n",
              "      <th>City</th>\n",
              "      <th>Customer_type</th>\n",
              "      <th>Gender</th>\n",
              "      <th>Product line</th>\n",
              "      <th>Unit price</th>\n",
              "      <th>Quantity</th>\n",
              "      <th>Tax 5%</th>\n",
              "      <th>Total</th>\n",
              "      <th>Date</th>\n",
              "      <th>Time</th>\n",
              "      <th>Payment</th>\n",
              "      <th>cogs</th>\n",
              "      <th>gross margin percentage</th>\n",
              "      <th>gross income</th>\n",
              "      <th>Rating</th>\n",
              "    </tr>\n",
              "  </thead>\n",
              "  <tbody>\n",
              "    <tr>\n",
              "      <th>0</th>\n",
              "      <td>750-67-8428</td>\n",
              "      <td>A</td>\n",
              "      <td>Yangon</td>\n",
              "      <td>Member</td>\n",
              "      <td>Female</td>\n",
              "      <td>Health and beauty</td>\n",
              "      <td>74.69</td>\n",
              "      <td>7</td>\n",
              "      <td>26.1415</td>\n",
              "      <td>548.9715</td>\n",
              "      <td>1/5/2021</td>\n",
              "      <td>13:08</td>\n",
              "      <td>Ewallet</td>\n",
              "      <td>522.83</td>\n",
              "      <td>4.761905</td>\n",
              "      <td>26.1415</td>\n",
              "      <td>9.1</td>\n",
              "    </tr>\n",
              "    <tr>\n",
              "      <th>1</th>\n",
              "      <td>226-31-3081</td>\n",
              "      <td>C</td>\n",
              "      <td>Naypyitaw</td>\n",
              "      <td>Normal</td>\n",
              "      <td>Female</td>\n",
              "      <td>Electronic accessories</td>\n",
              "      <td>15.28</td>\n",
              "      <td>5</td>\n",
              "      <td>3.8200</td>\n",
              "      <td>80.2200</td>\n",
              "      <td>3/8/2021</td>\n",
              "      <td>10:29</td>\n",
              "      <td>Cash</td>\n",
              "      <td>76.40</td>\n",
              "      <td>4.761905</td>\n",
              "      <td>3.8200</td>\n",
              "      <td>9.6</td>\n",
              "    </tr>\n",
              "  </tbody>\n",
              "</table>\n",
              "</div>\n",
              "      <button class=\"colab-df-convert\" onclick=\"convertToInteractive('df-696b4e0f-7028-4cb0-bd24-01cb73781a39')\"\n",
              "              title=\"Convert this dataframe to an interactive table.\"\n",
              "              style=\"display:none;\">\n",
              "\n",
              "  <svg xmlns=\"http://www.w3.org/2000/svg\" height=\"24px\"viewBox=\"0 0 24 24\"\n",
              "       width=\"24px\">\n",
              "    <path d=\"M0 0h24v24H0V0z\" fill=\"none\"/>\n",
              "    <path d=\"M18.56 5.44l.94 2.06.94-2.06 2.06-.94-2.06-.94-.94-2.06-.94 2.06-2.06.94zm-11 1L8.5 8.5l.94-2.06 2.06-.94-2.06-.94L8.5 2.5l-.94 2.06-2.06.94zm10 10l.94 2.06.94-2.06 2.06-.94-2.06-.94-.94-2.06-.94 2.06-2.06.94z\"/><path d=\"M17.41 7.96l-1.37-1.37c-.4-.4-.92-.59-1.43-.59-.52 0-1.04.2-1.43.59L10.3 9.45l-7.72 7.72c-.78.78-.78 2.05 0 2.83L4 21.41c.39.39.9.59 1.41.59.51 0 1.02-.2 1.41-.59l7.78-7.78 2.81-2.81c.8-.78.8-2.07 0-2.86zM5.41 20L4 18.59l7.72-7.72 1.47 1.35L5.41 20z\"/>\n",
              "  </svg>\n",
              "      </button>\n",
              "\n",
              "\n",
              "\n",
              "    <div id=\"df-9fdf75bb-f4c6-4fbd-9923-e54463bececc\">\n",
              "      <button class=\"colab-df-quickchart\" onclick=\"quickchart('df-9fdf75bb-f4c6-4fbd-9923-e54463bececc')\"\n",
              "              title=\"Suggest charts.\"\n",
              "              style=\"display:none;\">\n",
              "\n",
              "<svg xmlns=\"http://www.w3.org/2000/svg\" height=\"24px\"viewBox=\"0 0 24 24\"\n",
              "     width=\"24px\">\n",
              "    <g>\n",
              "        <path d=\"M19 3H5c-1.1 0-2 .9-2 2v14c0 1.1.9 2 2 2h14c1.1 0 2-.9 2-2V5c0-1.1-.9-2-2-2zM9 17H7v-7h2v7zm4 0h-2V7h2v10zm4 0h-2v-4h2v4z\"/>\n",
              "    </g>\n",
              "</svg>\n",
              "      </button>\n",
              "    </div>\n",
              "\n",
              "<style>\n",
              "  .colab-df-quickchart {\n",
              "    background-color: #E8F0FE;\n",
              "    border: none;\n",
              "    border-radius: 50%;\n",
              "    cursor: pointer;\n",
              "    display: none;\n",
              "    fill: #1967D2;\n",
              "    height: 32px;\n",
              "    padding: 0 0 0 0;\n",
              "    width: 32px;\n",
              "  }\n",
              "\n",
              "  .colab-df-quickchart:hover {\n",
              "    background-color: #E2EBFA;\n",
              "    box-shadow: 0px 1px 2px rgba(60, 64, 67, 0.3), 0px 1px 3px 1px rgba(60, 64, 67, 0.15);\n",
              "    fill: #174EA6;\n",
              "  }\n",
              "\n",
              "  [theme=dark] .colab-df-quickchart {\n",
              "    background-color: #3B4455;\n",
              "    fill: #D2E3FC;\n",
              "  }\n",
              "\n",
              "  [theme=dark] .colab-df-quickchart:hover {\n",
              "    background-color: #434B5C;\n",
              "    box-shadow: 0px 1px 3px 1px rgba(0, 0, 0, 0.15);\n",
              "    filter: drop-shadow(0px 1px 2px rgba(0, 0, 0, 0.3));\n",
              "    fill: #FFFFFF;\n",
              "  }\n",
              "</style>\n",
              "\n",
              "    <script>\n",
              "      async function quickchart(key) {\n",
              "        const containerElement = document.querySelector('#' + key);\n",
              "        const charts = await google.colab.kernel.invokeFunction(\n",
              "            'suggestCharts', [key], {});\n",
              "      }\n",
              "    </script>\n",
              "\n",
              "      <script>\n",
              "\n",
              "function displayQuickchartButton(domScope) {\n",
              "  let quickchartButtonEl =\n",
              "    domScope.querySelector('#df-9fdf75bb-f4c6-4fbd-9923-e54463bececc button.colab-df-quickchart');\n",
              "  quickchartButtonEl.style.display =\n",
              "    google.colab.kernel.accessAllowed ? 'block' : 'none';\n",
              "}\n",
              "\n",
              "        displayQuickchartButton(document);\n",
              "      </script>\n",
              "      <style>\n",
              "    .colab-df-container {\n",
              "      display:flex;\n",
              "      flex-wrap:wrap;\n",
              "      gap: 12px;\n",
              "    }\n",
              "\n",
              "    .colab-df-convert {\n",
              "      background-color: #E8F0FE;\n",
              "      border: none;\n",
              "      border-radius: 50%;\n",
              "      cursor: pointer;\n",
              "      display: none;\n",
              "      fill: #1967D2;\n",
              "      height: 32px;\n",
              "      padding: 0 0 0 0;\n",
              "      width: 32px;\n",
              "    }\n",
              "\n",
              "    .colab-df-convert:hover {\n",
              "      background-color: #E2EBFA;\n",
              "      box-shadow: 0px 1px 2px rgba(60, 64, 67, 0.3), 0px 1px 3px 1px rgba(60, 64, 67, 0.15);\n",
              "      fill: #174EA6;\n",
              "    }\n",
              "\n",
              "    [theme=dark] .colab-df-convert {\n",
              "      background-color: #3B4455;\n",
              "      fill: #D2E3FC;\n",
              "    }\n",
              "\n",
              "    [theme=dark] .colab-df-convert:hover {\n",
              "      background-color: #434B5C;\n",
              "      box-shadow: 0px 1px 3px 1px rgba(0, 0, 0, 0.15);\n",
              "      filter: drop-shadow(0px 1px 2px rgba(0, 0, 0, 0.3));\n",
              "      fill: #FFFFFF;\n",
              "    }\n",
              "  </style>\n",
              "\n",
              "      <script>\n",
              "        const buttonEl =\n",
              "          document.querySelector('#df-696b4e0f-7028-4cb0-bd24-01cb73781a39 button.colab-df-convert');\n",
              "        buttonEl.style.display =\n",
              "          google.colab.kernel.accessAllowed ? 'block' : 'none';\n",
              "\n",
              "        async function convertToInteractive(key) {\n",
              "          const element = document.querySelector('#df-696b4e0f-7028-4cb0-bd24-01cb73781a39');\n",
              "          const dataTable =\n",
              "            await google.colab.kernel.invokeFunction('convertToInteractive',\n",
              "                                                     [key], {});\n",
              "          if (!dataTable) return;\n",
              "\n",
              "          const docLinkHtml = 'Like what you see? Visit the ' +\n",
              "            '<a target=\"_blank\" href=https://colab.research.google.com/notebooks/data_table.ipynb>data table notebook</a>'\n",
              "            + ' to learn more about interactive tables.';\n",
              "          element.innerHTML = '';\n",
              "          dataTable['output_type'] = 'display_data';\n",
              "          await google.colab.output.renderOutput(dataTable, element);\n",
              "          const docLink = document.createElement('div');\n",
              "          docLink.innerHTML = docLinkHtml;\n",
              "          element.appendChild(docLink);\n",
              "        }\n",
              "      </script>\n",
              "    </div>\n",
              "  </div>\n"
            ]
          },
          "metadata": {},
          "execution_count": 5
        }
      ]
    },
    {
      "cell_type": "markdown",
      "source": [
        "## Sketch Demo"
      ],
      "metadata": {
        "id": "UrUj2YGTrH-3"
      }
    },
    {
      "cell_type": "code",
      "source": [
        "df.sketch.ask(\"What is this dataset about?\")"
      ],
      "metadata": {
        "colab": {
          "base_uri": "https://localhost:8080/",
          "height": 52
        },
        "id": "6h1OqKuxrArF",
        "outputId": "845c04eb-91b5-4050-fbd6-6de269dd3e47"
      },
      "execution_count": 6,
      "outputs": [
        {
          "output_type": "display_data",
          "data": {
            "text/plain": [
              "<IPython.core.display.HTML object>"
            ],
            "text/html": [
              "\n",
              "This dataset contains information about customer purchases from a store. It includes columns for the Invoice ID, Branch, City, Customer Type, Gender, Product Line, Unit Price, Quantity, Tax 5%, Total, Date, Time, Payment, COGS, Gross Margin Percentage, Gross Income and Rating."
            ]
          },
          "metadata": {}
        }
      ]
    },
    {
      "cell_type": "code",
      "source": [
        "df.sketch.ask(\"Can you give me friendly names and single sentence descriptions of each column? (format output as HTML List)\")"
      ],
      "metadata": {
        "colab": {
          "base_uri": "https://localhost:8080/",
          "height": 359
        },
        "id": "ckHlkpkRrMMM",
        "outputId": "db83f861-d0b3-4743-9432-e2c80731ba8d"
      },
      "execution_count": 7,
      "outputs": [
        {
          "output_type": "display_data",
          "data": {
            "text/plain": [
              "<IPython.core.display.HTML object>"
            ],
            "text/html": [
              "\n",
              "<ul>\n",
              "  <li><strong>Index:</strong> A numerical index of the rows in the dataframe.</li>\n",
              "  <li><strong>Invoice ID:</strong> A unique identifier for each invoice.</li>\n",
              "  <li><strong>Branch:</strong> The branch from which the invoice was issued.</li>\n",
              "  <li><strong>City:</strong> The city in which the branch is located.</li>\n",
              "  <li><strong>Customer_type:</strong> Whether the customer is a member or a normal customer.</li>\n",
              "  <li><strong>Gender:</strong> The gender of the customer.</li>\n",
              "  <li><strong>Product line:</strong> The type of product purchased.</li>\n",
              "  <li><strong>Unit price:</strong> The price of each unit purchased.</li>\n",
              "  <li><strong>Quantity:</strong> The number of units purchased.</li>\n",
              "  <li><strong>Tax 5%:</strong> The amount of tax charged on the purchase.</li>\n",
              "  <li><strong>Total:</strong> The total cost of the purchase including tax.</li>\n",
              "  <li><strong>Date:</strong> The date on which the purchase was made.</li>\n",
              "  <li><strong>Time:</strong> The time at which the purchase was made.</li>\n",
              "  <li><strong>Payment:</strong> The method of payment used for the purchase.</li>\n",
              "  <li><strong>COGS:</strong> The cost of goods sold for the purchase.</li>\n",
              "  <li><strong>Gross margin percentage:</strong> The percentage of gross margin for the purchase.</li>\n",
              "  <li><strong>Gross income:</strong> The gross income from the purchase.</li>\n",
              "  <li><strong>Rating:</strong> A rating given to the purchase by the customer.</li></ul>.\n"
            ]
          },
          "metadata": {}
        }
      ]
    },
    {
      "cell_type": "code",
      "source": [
        "df.sketch.ask(\"What interesting analysis could we perform?\")"
      ],
      "metadata": {
        "colab": {
          "base_uri": "https://localhost:8080/",
          "height": 69
        },
        "id": "1DkFK2ZVrRH4",
        "outputId": "8775a816-eba2-4253-ad9b-02e83ccb4258"
      },
      "execution_count": 8,
      "outputs": [
        {
          "output_type": "display_data",
          "data": {
            "text/plain": [
              "<IPython.core.display.HTML object>"
            ],
            "text/html": [
              "\n",
              "We could perform a variety of interesting analyses on this data. For example, we could look at the relationship between customer type and gender, or the relationship between city and payment type. We could also look at the distribution of ratings across different product lines, or compare the average unit price and quantity for each branch. Additionally, we could analyze the correlation between gross margin percentage and total sales, or compare the average total sales across different cities."
            ]
          },
          "metadata": {}
        }
      ]
    },
    {
      "cell_type": "code",
      "source": [
        "df.sketch.howto(\"Analyze the relationship between rating and total sale\")"
      ],
      "metadata": {
        "colab": {
          "base_uri": "https://localhost:8080/",
          "height": 191
        },
        "id": "Ga_5hod6rXX3",
        "outputId": "d5f87874-a367-47bb-b79d-5037e41b8710"
      },
      "execution_count": 9,
      "outputs": [
        {
          "output_type": "display_data",
          "data": {
            "text/plain": [
              "<IPython.core.display.HTML object>"
            ],
            "text/html": [
              "<div style=\"display:flex;flex-direction:row;justify-content:space-between;\">\n",
              "                <pre style=\"width: 100%; white-space: pre-wrap;\" id=\"7b0214cd-bf81-426a-b32d-d927b005652c\">\n",
              "# Calculate the correlation between rating and total sale\n",
              "corr = df['Rating'].corr(df['Total'])\n",
              "\n",
              "# Plot a scatter plot to visualize the relationship between rating and total sale\n",
              "import matplotlib.pyplot as plt\n",
              "plt.scatter(df['Rating'], df['Total'])\n",
              "plt.xlabel('Rating')\n",
              "plt.ylabel('Total Sale')\n",
              "plt.title('Relationship between Rating and Total Sale')\n",
              "plt.show()\n",
              "</pre>\n",
              "                <button style=\"height: fit-content;\" onclick=\"navigator.clipboard.writeText(JSON.parse(atob(`IlxuIyBDYWxjdWxhdGUgdGhlIGNvcnJlbGF0aW9uIGJldHdlZW4gcmF0aW5nIGFuZCB0b3RhbCBzYWxlXG5jb3JyID0gZGZbJ1JhdGluZyddLmNvcnIoZGZbJ1RvdGFsJ10pXG5cbiMgUGxvdCBhIHNjYXR0ZXIgcGxvdCB0byB2aXN1YWxpemUgdGhlIHJlbGF0aW9uc2hpcCBiZXR3ZWVuIHJhdGluZyBhbmQgdG90YWwgc2FsZVxuaW1wb3J0IG1hdHBsb3RsaWIucHlwbG90IGFzIHBsdFxucGx0LnNjYXR0ZXIoZGZbJ1JhdGluZyddLCBkZlsnVG90YWwnXSlcbnBsdC54bGFiZWwoJ1JhdGluZycpXG5wbHQueWxhYmVsKCdUb3RhbCBTYWxlJylcbnBsdC50aXRsZSgnUmVsYXRpb25zaGlwIGJldHdlZW4gUmF0aW5nIGFuZCBUb3RhbCBTYWxlJylcbnBsdC5zaG93KClcbiI=`)))\">Copy</button>\n",
              "                </div>"
            ]
          },
          "metadata": {}
        }
      ]
    },
    {
      "cell_type": "code",
      "source": [
        "# Calculate the correlation between rating and total sale\n",
        "corr = df['Rating'].corr(df['Total'])\n",
        "\n",
        "# Plot a scatter plot to visualize the relationship between rating and total sale\n",
        "import matplotlib.pyplot as plt\n",
        "plt.scatter(df['Rating'], df['Total'])\n",
        "plt.xlabel('Rating')\n",
        "plt.ylabel('Total Sale')\n",
        "plt.title('Relationship between Rating and Total Sale')\n",
        "plt.show()\n",
        "corr"
      ],
      "metadata": {
        "colab": {
          "base_uri": "https://localhost:8080/",
          "height": 489
        },
        "id": "8ivWNSpzrXil",
        "outputId": "0e49fc5c-17be-4b6d-a13f-9ca263395b1c"
      },
      "execution_count": 10,
      "outputs": [
        {
          "output_type": "display_data",
          "data": {
            "text/plain": [
              "<Figure size 640x480 with 1 Axes>"
            ],
            "image/png": "[encoded data removed]"
          },
          "metadata": {}
        },
        {
          "output_type": "execute_result",
          "data": {
            "text/plain": [
              "-0.03644170499701834"
            ]
          },
          "metadata": {},
          "execution_count": 10
        }
      ]
    },
    {
      "cell_type": "code",
      "source": [
        "df.sketch.howto(\"Calculate the product lines with the highest profits\")"
      ],
      "metadata": {
        "colab": {
          "base_uri": "https://localhost:8080/",
          "height": 243
        },
        "id": "d171hq9JrgyS",
        "outputId": "0216d541-0ca4-4efc-a7c4-7fb8277e605a"
      },
      "execution_count": 11,
      "outputs": [
        {
          "output_type": "display_data",
          "data": {
            "text/plain": [
              "<IPython.core.display.HTML object>"
            ],
            "text/html": [
              "<div style=\"display:flex;flex-direction:row;justify-content:space-between;\">\n",
              "                <pre style=\"width: 100%; white-space: pre-wrap;\" id=\"f041c8a4-7f2f-424f-bda6-d1163adebe69\">\n",
              "# Calculate the product lines with the highest profits\n",
              "\n",
              "# Create a new column for profit\n",
              "df['profit'] = df['Total'] - df['cogs']\n",
              "\n",
              "# Group by product line and calculate the sum of profits\n",
              "product_profits = df.groupby('Product line')['profit'].sum()\n",
              "\n",
              "# Sort the values in descending order and get the top 5 product lines with highest profits\n",
              "top_5_product_profits = product_profits.sort_values(ascending=False).head(5)\n",
              "\n",
              "# Print the top 5 product lines with highest profits\n",
              "print(top_5_product_profits)\n",
              "</pre>\n",
              "                <button style=\"height: fit-content;\" onclick=\"navigator.clipboard.writeText(JSON.parse(atob(`IlxuIyBDYWxjdWxhdGUgdGhlIHByb2R1Y3QgbGluZXMgd2l0aCB0aGUgaGlnaGVzdCBwcm9maXRzXG5cbiMgQ3JlYXRlIGEgbmV3IGNvbHVtbiBmb3IgcHJvZml0XG5kZlsncHJvZml0J10gPSBkZlsnVG90YWwnXSAtIGRmWydjb2dzJ11cblxuIyBHcm91cCBieSBwcm9kdWN0IGxpbmUgYW5kIGNhbGN1bGF0ZSB0aGUgc3VtIG9mIHByb2ZpdHNcbnByb2R1Y3RfcHJvZml0cyA9IGRmLmdyb3VwYnkoJ1Byb2R1Y3QgbGluZScpWydwcm9maXQnXS5zdW0oKVxuXG4jIFNvcnQgdGhlIHZhbHVlcyBpbiBkZXNjZW5kaW5nIG9yZGVyIGFuZCBnZXQgdGhlIHRvcCA1IHByb2R1Y3QgbGluZXMgd2l0aCBoaWdoZXN0IHByb2ZpdHNcbnRvcF81X3Byb2R1Y3RfcHJvZml0cyA9IHByb2R1Y3RfcHJvZml0cy5zb3J0X3ZhbHVlcyhhc2NlbmRpbmc9RmFsc2UpLmhlYWQoNSlcblxuIyBQcmludCB0aGUgdG9wIDUgcHJvZHVjdCBsaW5lcyB3aXRoIGhpZ2hlc3QgcHJvZml0c1xucHJpbnQodG9wXzVfcHJvZHVjdF9wcm9maXRzKVxuIg==`)))\">Copy</button>\n",
              "                </div>"
            ]
          },
          "metadata": {}
        }
      ]
    },
    {
      "cell_type": "code",
      "source": [
        "# Calculate the product lines with the highest profits\n",
        "\n",
        "# Create a new column for profit\n",
        "df['profit'] = df['Total'] - df['cogs']\n",
        "\n",
        "# Group by product line and calculate the sum of profits\n",
        "product_profits = df.groupby('Product line')['profit'].sum()\n",
        "\n",
        "# Sort the values in descending order and get the top 5 product lines with highest profits\n",
        "top_5_product_profits = product_profits.sort_values(ascending=False).head(5)\n",
        "\n",
        "# Print the top 5 product lines with highest profits\n",
        "print(top_5_product_profits)"
      ],
      "metadata": {
        "colab": {
          "base_uri": "https://localhost:8080/"
        },
        "id": "7YpzMcbRrkOD",
        "outputId": "44cc9c65-1f11-4c47-a41e-8b6b99bfeda5"
      },
      "execution_count": 12,
      "outputs": [
        {
          "output_type": "stream",
          "name": "stdout",
          "text": [
            "Product line\n",
            "Food and beverages        2673.5640\n",
            "Sports and travel         2624.8965\n",
            "Electronic accessories    2587.5015\n",
            "Fashion accessories       2585.9950\n",
            "Home and lifestyle        2564.8530\n",
            "Name: profit, dtype: float64\n"
          ]
        }
      ]
    },
    {
      "cell_type": "code",
      "source": [
        "df.sketch.howto(\"Create a plot to show sales by gender\")"
      ],
      "metadata": {
        "colab": {
          "base_uri": "https://localhost:8080/",
          "height": 225
        },
        "id": "BTsRNANyrl9Z",
        "outputId": "9ce25d79-4168-41da-ad0a-f71b41b29be6"
      },
      "execution_count": 13,
      "outputs": [
        {
          "output_type": "display_data",
          "data": {
            "text/plain": [
              "<IPython.core.display.HTML object>"
            ],
            "text/html": [
              "<div style=\"display:flex;flex-direction:row;justify-content:space-between;\">\n",
              "                <pre style=\"width: 100%; white-space: pre-wrap;\" id=\"f97dcce4-84bb-44b1-88c4-e2962d35922c\">\n",
              "# Create a plot to show sales by gender\n",
              "import matplotlib.pyplot as plt\n",
              "\n",
              "# Get the data for the plot\n",
              "gender_sales = df.groupby('Gender')['Total'].sum()\n",
              "\n",
              "# Create the plot\n",
              "plt.bar(gender_sales.index, gender_sales.values)\n",
              "plt.title('Sales by Gender')\n",
              "plt.xlabel('Gender')\n",
              "plt.ylabel('Total Sales')\n",
              "plt.show()\n",
              "</pre>\n",
              "                <button style=\"height: fit-content;\" onclick=\"navigator.clipboard.writeText(JSON.parse(atob(`IlxuIyBDcmVhdGUgYSBwbG90IHRvIHNob3cgc2FsZXMgYnkgZ2VuZGVyXG5pbXBvcnQgbWF0cGxvdGxpYi5weXBsb3QgYXMgcGx0XG5cbiMgR2V0IHRoZSBkYXRhIGZvciB0aGUgcGxvdFxuZ2VuZGVyX3NhbGVzID0gZGYuZ3JvdXBieSgnR2VuZGVyJylbJ1RvdGFsJ10uc3VtKClcblxuIyBDcmVhdGUgdGhlIHBsb3RcbnBsdC5iYXIoZ2VuZGVyX3NhbGVzLmluZGV4LCBnZW5kZXJfc2FsZXMudmFsdWVzKVxucGx0LnRpdGxlKCdTYWxlcyBieSBHZW5kZXInKVxucGx0LnhsYWJlbCgnR2VuZGVyJylcbnBsdC55bGFiZWwoJ1RvdGFsIFNhbGVzJylcbnBsdC5zaG93KClcbiI=`)))\">Copy</button>\n",
              "                </div>"
            ]
          },
          "metadata": {}
        }
      ]
    },
    {
      "cell_type": "code",
      "source": [
        "# import libraries\n",
        "import matplotlib.pyplot as plt\n",
        "\n",
        "# create a plot to show sales by gender\n",
        "df.groupby('Gender')['Total'].sum().plot(kind='bar')\n",
        "plt.title('Sales by Gender')\n",
        "plt.xlabel('Gender')\n",
        "plt.ylabel('Total Sales')\n",
        "plt.show()"
      ],
      "metadata": {
        "colab": {
          "base_uri": "https://localhost:8080/",
          "height": 508
        },
        "id": "TW7ekhCPro73",
        "outputId": "b1f44ee1-e311-4d2b-b931-947103d07d85"
      },
      "execution_count": 14,
      "outputs": [
        {
          "output_type": "display_data",
          "data": {
            "text/plain": [
              "<Figure size 640x480 with 1 Axes>"
            ],
            "image/png": "[encoded data removed]"
          },
          "metadata": {}
        }
      ]
    },
    {
      "cell_type": "code",
      "source": [
        "df.sketch.howto(\"Create a plot to show sales by month\")"
      ],
      "metadata": {
        "colab": {
          "base_uri": "https://localhost:8080/",
          "height": 225
        },
        "id": "MXVPA5MqrqJ7",
        "outputId": "d9b00cb6-6a0e-459a-ce6a-6495c6f6ed31"
      },
      "execution_count": 15,
      "outputs": [
        {
          "output_type": "display_data",
          "data": {
            "text/plain": [
              "<IPython.core.display.HTML object>"
            ],
            "text/html": [
              "<div style=\"display:flex;flex-direction:row;justify-content:space-between;\">\n",
              "                <pre style=\"width: 100%; white-space: pre-wrap;\" id=\"1e434d97-c3c2-4cf1-a92f-4bb5d3a44169\">\n",
              "# Create a new column in the dataframe to store the month of each sale\n",
              "df['Month'] = df['Date'].apply(lambda x: x.split('/')[0])\n",
              "\n",
              "# Create a plot to show sales by month\n",
              "import matplotlib.pyplot as plt\n",
              "plt.figure(figsize=(10,6))\n",
              "sales_by_month = df.groupby('Month').Total.sum()\n",
              "sales_by_month.plot(kind='bar')\n",
              "plt.title('Sales by Month')\n",
              "plt.xlabel('Month')\n",
              "plt.ylabel('Total Sales')\n",
              "plt.show()\n",
              "</pre>\n",
              "                <button style=\"height: fit-content;\" onclick=\"navigator.clipboard.writeText(JSON.parse(atob(`IlxuIyBDcmVhdGUgYSBuZXcgY29sdW1uIGluIHRoZSBkYXRhZnJhbWUgdG8gc3RvcmUgdGhlIG1vbnRoIG9mIGVhY2ggc2FsZVxuZGZbJ01vbnRoJ10gPSBkZlsnRGF0ZSddLmFwcGx5KGxhbWJkYSB4OiB4LnNwbGl0KCcvJylbMF0pXG5cbiMgQ3JlYXRlIGEgcGxvdCB0byBzaG93IHNhbGVzIGJ5IG1vbnRoXG5pbXBvcnQgbWF0cGxvdGxpYi5weXBsb3QgYXMgcGx0XG5wbHQuZmlndXJlKGZpZ3NpemU9KDEwLDYpKVxuc2FsZXNfYnlfbW9udGggPSBkZi5ncm91cGJ5KCdNb250aCcpLlRvdGFsLnN1bSgpXG5zYWxlc19ieV9tb250aC5wbG90KGtpbmQ9J2JhcicpXG5wbHQudGl0bGUoJ1NhbGVzIGJ5IE1vbnRoJylcbnBsdC54bGFiZWwoJ01vbnRoJylcbnBsdC55bGFiZWwoJ1RvdGFsIFNhbGVzJylcbnBsdC5zaG93KClcbiI=`)))\">Copy</button>\n",
              "                </div>"
            ]
          },
          "metadata": {}
        }
      ]
    },
    {
      "cell_type": "code",
      "source": [
        "# Create a new column for month from the Date column\n",
        "df['Month'] = pd.DatetimeIndex(df['Date']).month\n",
        "\n",
        "# Create a plot to show sales by month\n",
        "import matplotlib.pyplot as plt\n",
        "plt.figure(figsize=(10,5))\n",
        "sales_by_month = df.groupby('Month')['Total'].sum()\n",
        "sales_by_month.plot(kind='bar')\n",
        "plt.title('Sales by Month')\n",
        "plt.xlabel('Month')\n",
        "plt.ylabel('Total Sales')\n",
        "plt.show()"
      ],
      "metadata": {
        "colab": {
          "base_uri": "https://localhost:8080/",
          "height": 482
        },
        "id": "oVg-mFRsrr6-",
        "outputId": "bf09e747-4c35-465a-bc9d-7178896514f5"
      },
      "execution_count": 16,
      "outputs": [
        {
          "output_type": "display_data",
          "data": {
            "text/plain": [
              "<Figure size 1000x500 with 1 Axes>"
            ],
            "image/png": "[encoded data removed]"
          },
          "metadata": {}
        }
      ]
    },
    {
      "cell_type": "code",
      "source": [
        "\n",
        "df.sketch.howto(\"Using Plotly, plot the total sales by each hour of the day\")"
      ],
      "metadata": {
        "colab": {
          "base_uri": "https://localhost:8080/",
          "height": 156
        },
        "id": "bwASqMFlrtwh",
        "outputId": "2bc0bb8f-ac27-47c7-9841-06c6d2a5798d"
      },
      "execution_count": 17,
      "outputs": [
        {
          "output_type": "display_data",
          "data": {
            "text/plain": [
              "<IPython.core.display.HTML object>"
            ],
            "text/html": [
              "<div style=\"display:flex;flex-direction:row;justify-content:space-between;\">\n",
              "                <pre style=\"width: 100%; white-space: pre-wrap;\" id=\"ca231224-0ae8-4e6a-9c52-cff06589de81\">\n",
              "import plotly.express as px\n",
              "\n",
              "# Create a dataframe with the total sales by hour of the day\n",
              "df_hourly = df.groupby(df['Time'].str[:2]).agg({'Total': 'sum'}).reset_index()\n",
              "\n",
              "# Plot the total sales by hour of the day using Plotly\n",
              "fig = px.bar(df_hourly, x='Time', y='Total', title='Total Sales by Hour of the Day')\n",
              "fig.show()\n",
              "</pre>\n",
              "                <button style=\"height: fit-content;\" onclick=\"navigator.clipboard.writeText(JSON.parse(atob(`IlxuaW1wb3J0IHBsb3RseS5leHByZXNzIGFzIHB4XG5cbiMgQ3JlYXRlIGEgZGF0YWZyYW1lIHdpdGggdGhlIHRvdGFsIHNhbGVzIGJ5IGhvdXIgb2YgdGhlIGRheVxuZGZfaG91cmx5ID0gZGYuZ3JvdXBieShkZlsnVGltZSddLnN0cls6Ml0pLmFnZyh7J1RvdGFsJzogJ3N1bSd9KS5yZXNldF9pbmRleCgpXG5cbiMgUGxvdCB0aGUgdG90YWwgc2FsZXMgYnkgaG91ciBvZiB0aGUgZGF5IHVzaW5nIFBsb3RseVxuZmlnID0gcHguYmFyKGRmX2hvdXJseSwgeD0nVGltZScsIHk9J1RvdGFsJywgdGl0bGU9J1RvdGFsIFNhbGVzIGJ5IEhvdXIgb2YgdGhlIERheScpXG5maWcuc2hvdygpXG4i`)))\">Copy</button>\n",
              "                </div>"
            ]
          },
          "metadata": {}
        }
      ]
    },
    {
      "cell_type": "code",
      "source": [
        "import plotly.express as px\n",
        "\n",
        "# Create a dataframe with the total sales by each hour of the day\n",
        "df_hourly = df.groupby(df['Time'].str[:2]).agg({'Total': 'sum'}).reset_index()\n",
        "\n",
        "# Plot the total sales by each hour of the day using Plotly\n",
        "fig = px.bar(df_hourly, x='Time', y='Total', title='Total Sales by Hour of the Day')\n",
        "fig.show()"
      ],
      "metadata": {
        "colab": {
          "base_uri": "https://localhost:8080/",
          "height": 542
        },
        "id": "le5sCRfmrvUY",
        "outputId": "89b95aa6-94be-4f55-f162-9769799bb7af"
      },
      "execution_count": 18,
      "outputs": [
        {
          "output_type": "display_data",
          "data": {
            "text/html": [
              "<html>\n",
              "<head><meta charset=\"utf-8\" /></head>\n",
              "<body>\n",
              "    <div>            <script src=\"https://cdnjs.cloudflare.com/ajax/libs/mathjax/2.7.5/MathJax.js?config=TeX-AMS-MML_SVG\"></script><script type=\"text/javascript\">if (window.MathJax && window.MathJax.Hub && window.MathJax.Hub.Config) {window.MathJax.Hub.Config({SVG: {font: \"STIX-Web\"}});}</script>                <script type=\"text/javascript\">window.PlotlyConfig = {MathJaxConfig: 'local'};</script>\n",
              "        <script src=\"https://cdn.plot.ly/plotly-2.18.2.min.js\"></script>                <div id=\"f6f1ea40-b93e-4dfa-918c-9c6be80c425e\" class=\"plotly-graph-div\" style=\"height:525px; width:100%;\"></div>            <script type=\"text/javascript\">                                    window.PLOTLYENV=window.PLOTLYENV || {};                                    if (document.getElementById(\"f6f1ea40-b93e-4dfa-918c-9c6be80c425e\")) {                    Plotly.newPlot(                        \"f6f1ea40-b93e-4dfa-918c-9c6be80c425e\",                        [{\"alignmentgroup\":\"True\",\"hovertemplate\":\"Time=%{x}<br>Total=%{y}<extra></extra>\",\"legendgroup\":\"\",\"marker\":{\"color\":\"#636efa\",\"pattern\":{\"shape\":\"\"}},\"name\":\"\",\"offsetgroup\":\"\",\"orientation\":\"v\",\"showlegend\":false,\"textposition\":\"auto\",\"x\":[\"10\",\"11\",\"12\",\"13\",\"14\",\"15\",\"16\",\"17\",\"18\",\"19\",\"20\"],\"xaxis\":\"x\",\"y\":[31421.481,30377.3295,26065.8825,34723.227,30828.399,31179.5085,25226.3235,24445.218,26030.34,39699.513,22969.527],\"yaxis\":\"y\",\"type\":\"bar\"}],                        {\"template\":{\"data\":{\"histogram2dcontour\":[{\"type\":\"histogram2dcontour\",\"colorbar\":{\"outlinewidth\":0,\"ticks\":\"\"},\"colorscale\":[[0.0,\"#0d0887\"],[0.1111111111111111,\"#46039f\"],[0.2222222222222222,\"#7201a8\"],[0.3333333333333333,\"#9c179e\"],[0.4444444444444444,\"#bd3786\"],[0.5555555555555556,\"#d8576b\"],[0.6666666666666666,\"#ed7953\"],[0.7777777777777778,\"#fb9f3a\"],[0.8888888888888888,\"#fdca26\"],[1.0,\"#f0f921\"]]}],\"choropleth\":[{\"type\":\"choropleth\",\"colorbar\":{\"outlinewidth\":0,\"ticks\":\"\"}}],\"histogram2d\":[{\"type\":\"histogram2d\",\"colorbar\":{\"outlinewidth\":0,\"ticks\":\"\"},\"colorscale\":[[0.0,\"#0d0887\"],[0.1111111111111111,\"#46039f\"],[0.2222222222222222,\"#7201a8\"],[0.3333333333333333,\"#9c179e\"],[0.4444444444444444,\"#bd3786\"],[0.5555555555555556,\"#d8576b\"],[0.6666666666666666,\"#ed7953\"],[0.7777777777777778,\"#fb9f3a\"],[0.8888888888888888,\"#fdca26\"],[1.0,\"#f0f921\"]]}],\"heatmap\":[{\"type\":\"heatmap\",\"colorbar\":{\"outlinewidth\":0,\"ticks\":\"\"},\"colorscale\":[[0.0,\"#0d0887\"],[0.1111111111111111,\"#46039f\"],[0.2222222222222222,\"#7201a8\"],[0.3333333333333333,\"#9c179e\"],[0.4444444444444444,\"#bd3786\"],[0.5555555555555556,\"#d8576b\"],[0.6666666666666666,\"#ed7953\"],[0.7777777777777778,\"#fb9f3a\"],[0.8888888888888888,\"#fdca26\"],[1.0,\"#f0f921\"]]}],\"heatmapgl\":[{\"type\":\"heatmapgl\",\"colorbar\":{\"outlinewidth\":0,\"ticks\":\"\"},\"colorscale\":[[0.0,\"#0d0887\"],[0.1111111111111111,\"#46039f\"],[0.2222222222222222,\"#7201a8\"],[0.3333333333333333,\"#9c179e\"],[0.4444444444444444,\"#bd3786\"],[0.5555555555555556,\"#d8576b\"],[0.6666666666666666,\"#ed7953\"],[0.7777777777777778,\"#fb9f3a\"],[0.8888888888888888,\"#fdca26\"],[1.0,\"#f0f921\"]]}],\"contourcarpet\":[{\"type\":\"contourcarpet\",\"colorbar\":{\"outlinewidth\":0,\"ticks\":\"\"}}],\"contour\":[{\"type\":\"contour\",\"colorbar\":{\"outlinewidth\":0,\"ticks\":\"\"},\"colorscale\":[[0.0,\"#0d0887\"],[0.1111111111111111,\"#46039f\"],[0.2222222222222222,\"#7201a8\"],[0.3333333333333333,\"#9c179e\"],[0.4444444444444444,\"#bd3786\"],[0.5555555555555556,\"#d8576b\"],[0.6666666666666666,\"#ed7953\"],[0.7777777777777778,\"#fb9f3a\"],[0.8888888888888888,\"#fdca26\"],[1.0,\"#f0f921\"]]}],\"surface\":[{\"type\":\"surface\",\"colorbar\":{\"outlinewidth\":0,\"ticks\":\"\"},\"colorscale\":[[0.0,\"#0d0887\"],[0.1111111111111111,\"#46039f\"],[0.2222222222222222,\"#7201a8\"],[0.3333333333333333,\"#9c179e\"],[0.4444444444444444,\"#bd3786\"],[0.5555555555555556,\"#d8576b\"],[0.6666666666666666,\"#ed7953\"],[0.7777777777777778,\"#fb9f3a\"],[0.8888888888888888,\"#fdca26\"],[1.0,\"#f0f921\"]]}],\"mesh3d\":[{\"type\":\"mesh3d\",\"colorbar\":{\"outlinewidth\":0,\"ticks\":\"\"}}],\"scatter\":[{\"fillpattern\":{\"fillmode\":\"overlay\",\"size\":10,\"solidity\":0.2},\"type\":\"scatter\"}],\"parcoords\":[{\"type\":\"parcoords\",\"line\":{\"colorbar\":{\"outlinewidth\":0,\"ticks\":\"\"}}}],\"scatterpolargl\":[{\"type\":\"scatterpolargl\",\"marker\":{\"colorbar\":{\"outlinewidth\":0,\"ticks\":\"\"}}}],\"bar\":[{\"error_x\":{\"color\":\"#2a3f5f\"},\"error_y\":{\"color\":\"#2a3f5f\"},\"marker\":{\"line\":{\"color\":\"#E5ECF6\",\"width\":0.5},\"pattern\":{\"fillmode\":\"overlay\",\"size\":10,\"solidity\":0.2}},\"type\":\"bar\"}],\"scattergeo\":[{\"type\":\"scattergeo\",\"marker\":{\"colorbar\":{\"outlinewidth\":0,\"ticks\":\"\"}}}],\"scatterpolar\":[{\"type\":\"scatterpolar\",\"marker\":{\"colorbar\":{\"outlinewidth\":0,\"ticks\":\"\"}}}],\"histogram\":[{\"marker\":{\"pattern\":{\"fillmode\":\"overlay\",\"size\":10,\"solidity\":0.2}},\"type\":\"histogram\"}],\"scattergl\":[{\"type\":\"scattergl\",\"marker\":{\"colorbar\":{\"outlinewidth\":0,\"ticks\":\"\"}}}],\"scatter3d\":[{\"type\":\"scatter3d\",\"line\":{\"colorbar\":{\"outlinewidth\":0,\"ticks\":\"\"}},\"marker\":{\"colorbar\":{\"outlinewidth\":0,\"ticks\":\"\"}}}],\"scattermapbox\":[{\"type\":\"scattermapbox\",\"marker\":{\"colorbar\":{\"outlinewidth\":0,\"ticks\":\"\"}}}],\"scatterternary\":[{\"type\":\"scatterternary\",\"marker\":{\"colorbar\":{\"outlinewidth\":0,\"ticks\":\"\"}}}],\"scattercarpet\":[{\"type\":\"scattercarpet\",\"marker\":{\"colorbar\":{\"outlinewidth\":0,\"ticks\":\"\"}}}],\"carpet\":[{\"aaxis\":{\"endlinecolor\":\"#2a3f5f\",\"gridcolor\":\"white\",\"linecolor\":\"white\",\"minorgridcolor\":\"white\",\"startlinecolor\":\"#2a3f5f\"},\"baxis\":{\"endlinecolor\":\"#2a3f5f\",\"gridcolor\":\"white\",\"linecolor\":\"white\",\"minorgridcolor\":\"white\",\"startlinecolor\":\"#2a3f5f\"},\"type\":\"carpet\"}],\"table\":[{\"cells\":{\"fill\":{\"color\":\"#EBF0F8\"},\"line\":{\"color\":\"white\"}},\"header\":{\"fill\":{\"color\":\"#C8D4E3\"},\"line\":{\"color\":\"white\"}},\"type\":\"table\"}],\"barpolar\":[{\"marker\":{\"line\":{\"color\":\"#E5ECF6\",\"width\":0.5},\"pattern\":{\"fillmode\":\"overlay\",\"size\":10,\"solidity\":0.2}},\"type\":\"barpolar\"}],\"pie\":[{\"automargin\":true,\"type\":\"pie\"}]},\"layout\":{\"autotypenumbers\":\"strict\",\"colorway\":[\"#636efa\",\"#EF553B\",\"#00cc96\",\"#ab63fa\",\"#FFA15A\",\"#19d3f3\",\"#FF6692\",\"#B6E880\",\"#FF97FF\",\"#FECB52\"],\"font\":{\"color\":\"#2a3f5f\"},\"hovermode\":\"closest\",\"hoverlabel\":{\"align\":\"left\"},\"paper_bgcolor\":\"white\",\"plot_bgcolor\":\"#E5ECF6\",\"polar\":{\"bgcolor\":\"#E5ECF6\",\"angularaxis\":{\"gridcolor\":\"white\",\"linecolor\":\"white\",\"ticks\":\"\"},\"radialaxis\":{\"gridcolor\":\"white\",\"linecolor\":\"white\",\"ticks\":\"\"}},\"ternary\":{\"bgcolor\":\"#E5ECF6\",\"aaxis\":{\"gridcolor\":\"white\",\"linecolor\":\"white\",\"ticks\":\"\"},\"baxis\":{\"gridcolor\":\"white\",\"linecolor\":\"white\",\"ticks\":\"\"},\"caxis\":{\"gridcolor\":\"white\",\"linecolor\":\"white\",\"ticks\":\"\"}},\"coloraxis\":{\"colorbar\":{\"outlinewidth\":0,\"ticks\":\"\"}},\"colorscale\":{\"sequential\":[[0.0,\"#0d0887\"],[0.1111111111111111,\"#46039f\"],[0.2222222222222222,\"#7201a8\"],[0.3333333333333333,\"#9c179e\"],[0.4444444444444444,\"#bd3786\"],[0.5555555555555556,\"#d8576b\"],[0.6666666666666666,\"#ed7953\"],[0.7777777777777778,\"#fb9f3a\"],[0.8888888888888888,\"#fdca26\"],[1.0,\"#f0f921\"]],\"sequentialminus\":[[0.0,\"#0d0887\"],[0.1111111111111111,\"#46039f\"],[0.2222222222222222,\"#7201a8\"],[0.3333333333333333,\"#9c179e\"],[0.4444444444444444,\"#bd3786\"],[0.5555555555555556,\"#d8576b\"],[0.6666666666666666,\"#ed7953\"],[0.7777777777777778,\"#fb9f3a\"],[0.8888888888888888,\"#fdca26\"],[1.0,\"#f0f921\"]],\"diverging\":[[0,\"#8e0152\"],[0.1,\"#c51b7d\"],[0.2,\"#de77ae\"],[0.3,\"#f1b6da\"],[0.4,\"#fde0ef\"],[0.5,\"#f7f7f7\"],[0.6,\"#e6f5d0\"],[0.7,\"#b8e186\"],[0.8,\"#7fbc41\"],[0.9,\"#4d9221\"],[1,\"#276419\"]]},\"xaxis\":{\"gridcolor\":\"white\",\"linecolor\":\"white\",\"ticks\":\"\",\"title\":{\"standoff\":15},\"zerolinecolor\":\"white\",\"automargin\":true,\"zerolinewidth\":2},\"yaxis\":{\"gridcolor\":\"white\",\"linecolor\":\"white\",\"ticks\":\"\",\"title\":{\"standoff\":15},\"zerolinecolor\":\"white\",\"automargin\":true,\"zerolinewidth\":2},\"scene\":{\"xaxis\":{\"backgroundcolor\":\"#E5ECF6\",\"gridcolor\":\"white\",\"linecolor\":\"white\",\"showbackground\":true,\"ticks\":\"\",\"zerolinecolor\":\"white\",\"gridwidth\":2},\"yaxis\":{\"backgroundcolor\":\"#E5ECF6\",\"gridcolor\":\"white\",\"linecolor\":\"white\",\"showbackground\":true,\"ticks\":\"\",\"zerolinecolor\":\"white\",\"gridwidth\":2},\"zaxis\":{\"backgroundcolor\":\"#E5ECF6\",\"gridcolor\":\"white\",\"linecolor\":\"white\",\"showbackground\":true,\"ticks\":\"\",\"zerolinecolor\":\"white\",\"gridwidth\":2}},\"shapedefaults\":{\"line\":{\"color\":\"#2a3f5f\"}},\"annotationdefaults\":{\"arrowcolor\":\"#2a3f5f\",\"arrowhead\":0,\"arrowwidth\":1},\"geo\":{\"bgcolor\":\"white\",\"landcolor\":\"#E5ECF6\",\"subunitcolor\":\"white\",\"showland\":true,\"showlakes\":true,\"lakecolor\":\"white\"},\"title\":{\"x\":0.05},\"mapbox\":{\"style\":\"light\"}}},\"xaxis\":{\"anchor\":\"y\",\"domain\":[0.0,1.0],\"title\":{\"text\":\"Time\"}},\"yaxis\":{\"anchor\":\"x\",\"domain\":[0.0,1.0],\"title\":{\"text\":\"Total\"}},\"legend\":{\"tracegroupgap\":0},\"title\":{\"text\":\"Total Sales by Hour of the Day\"},\"barmode\":\"relative\"},                        {\"responsive\": true}                    ).then(function(){\n",
              "                            \n",
              "var gd = document.getElementById('f6f1ea40-b93e-4dfa-918c-9c6be80c425e');\n",
              "var x = new MutationObserver(function (mutations, observer) {{\n",
              "        var display = window.getComputedStyle(gd).display;\n",
              "        if (!display || display === 'none') {{\n",
              "            console.log([gd, 'removed!']);\n",
              "            Plotly.purge(gd);\n",
              "            observer.disconnect();\n",
              "        }}\n",
              "}});\n",
              "\n",
              "// Listen for the removal of the full notebook cells\n",
              "var notebookContainer = gd.closest('#notebook-container');\n",
              "if (notebookContainer) {{\n",
              "    x.observe(notebookContainer, {childList: true});\n",
              "}}\n",
              "\n",
              "// Listen for the clearing of the current output cell\n",
              "var outputEl = gd.closest('.output');\n",
              "if (outputEl) {{\n",
              "    x.observe(outputEl, {childList: true});\n",
              "}}\n",
              "\n",
              "                        })                };                            </script>        </div>\n",
              "</body>\n",
              "</html>"
            ]
          },
          "metadata": {}
        }
      ]
    },
    {
      "cell_type": "code",
      "source": [],
      "metadata": {
        "id": "4vhXPCqyrw5M"
      },
      "execution_count": null,
      "outputs": []
    }
  ]
}