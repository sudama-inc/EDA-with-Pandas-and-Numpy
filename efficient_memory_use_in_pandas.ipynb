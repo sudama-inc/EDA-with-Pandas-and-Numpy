{
  "nbformat": 4,
  "nbformat_minor": 0,
  "metadata": {
    "colab": {
      "provenance": [],
      "authorship_tag": "ABX9TyOzEtTIOeHa9ZPxu9nIwfIC",
      "include_colab_link": true
    },
    "kernelspec": {
      "name": "python3",
      "display_name": "Python 3"
    },
    "language_info": {
      "name": "python"
    }
  },
  "cells": [
    {
      "cell_type": "markdown",
      "metadata": {
        "id": "view-in-github",
        "colab_type": "text"
      },
      "source": [
        "<a href=\"https://colab.research.google.com/github/sudama-inc/EDA-with-Pandas-and-Numpy/blob/main/efficient_memory_use_in_pandas.ipynb\" target=\"_parent\"><img src=\"https://colab.research.google.com/assets/colab-badge.svg\" alt=\"Open In Colab\"/></a>"
      ]
    },
    {
      "cell_type": "markdown",
      "source": [
        "## efficient memory use in pandas : Type Casting the columns"
      ],
      "metadata": {
        "id": "yO29r-WVfRSd"
      }
    },
    {
      "cell_type": "code",
      "source": [
        "import pandas as pd\n",
        "import numpy as np"
      ],
      "metadata": {
        "id": "-qE9ySxLfVpv"
      },
      "execution_count": 1,
      "outputs": []
    },
    {
      "cell_type": "code",
      "source": [
        "size = 5\n",
        "def get_dataset(size):\n",
        "  df = pd.DataFrame()\n",
        "\n",
        "  df['position'] = np.random.choice(['left', 'middle', 'right'], size=size)\n",
        "  df['age'] = np.random.randint(1, 50, size=size)\n",
        "  df['team'] = np.random.choice(['red', 'blue', 'yellow', 'green'], size=size)\n",
        "  df['win'] = np.random.choice(['yes', 'no'], size=size)\n",
        "  df['prob'] = np.random.uniform(1, 50, size=size)\n",
        "  return df\n",
        "\n",
        "\n",
        "display(get_dataset(size))"
      ],
      "metadata": {
        "colab": {
          "base_uri": "https://localhost:8080/",
          "height": 206
        },
        "id": "7Unj7zUIfaHk",
        "outputId": "7b01c848-c473-4e32-966d-72b440104a46"
      },
      "execution_count": 2,
      "outputs": [
        {
          "output_type": "display_data",
          "data": {
            "text/plain": [
              "  position  age   team  win       prob\n",
              "0    right    8  green  yes  37.436137\n",
              "1    right   32   blue  yes  22.215010\n",
              "2     left   32   blue  yes  19.805534\n",
              "3    right   31  green   no   2.819209\n",
              "4   middle   15   blue  yes  12.294267"
            ],
            "text/html": [
              "\n",
              "\n",
              "  <div id=\"df-2d5875e6-67e7-4757-bf00-1e18a034089b\">\n",
              "    <div class=\"colab-df-container\">\n",
              "      <div>\n",
              "<style scoped>\n",
              "    .dataframe tbody tr th:only-of-type {\n",
              "        vertical-align: middle;\n",
              "    }\n",
              "\n",
              "    .dataframe tbody tr th {\n",
              "        vertical-align: top;\n",
              "    }\n",
              "\n",
              "    .dataframe thead th {\n",
              "        text-align: right;\n",
              "    }\n",
              "</style>\n",
              "<table border=\"1\" class=\"dataframe\">\n",
              "  <thead>\n",
              "    <tr style=\"text-align: right;\">\n",
              "      <th></th>\n",
              "      <th>position</th>\n",
              "      <th>age</th>\n",
              "      <th>team</th>\n",
              "      <th>win</th>\n",
              "      <th>prob</th>\n",
              "    </tr>\n",
              "  </thead>\n",
              "  <tbody>\n",
              "    <tr>\n",
              "      <th>0</th>\n",
              "      <td>right</td>\n",
              "      <td>8</td>\n",
              "      <td>green</td>\n",
              "      <td>yes</td>\n",
              "      <td>37.436137</td>\n",
              "    </tr>\n",
              "    <tr>\n",
              "      <th>1</th>\n",
              "      <td>right</td>\n",
              "      <td>32</td>\n",
              "      <td>blue</td>\n",
              "      <td>yes</td>\n",
              "      <td>22.215010</td>\n",
              "    </tr>\n",
              "    <tr>\n",
              "      <th>2</th>\n",
              "      <td>left</td>\n",
              "      <td>32</td>\n",
              "      <td>blue</td>\n",
              "      <td>yes</td>\n",
              "      <td>19.805534</td>\n",
              "    </tr>\n",
              "    <tr>\n",
              "      <th>3</th>\n",
              "      <td>right</td>\n",
              "      <td>31</td>\n",
              "      <td>green</td>\n",
              "      <td>no</td>\n",
              "      <td>2.819209</td>\n",
              "    </tr>\n",
              "    <tr>\n",
              "      <th>4</th>\n",
              "      <td>middle</td>\n",
              "      <td>15</td>\n",
              "      <td>blue</td>\n",
              "      <td>yes</td>\n",
              "      <td>12.294267</td>\n",
              "    </tr>\n",
              "  </tbody>\n",
              "</table>\n",
              "</div>\n",
              "      <button class=\"colab-df-convert\" onclick=\"convertToInteractive('df-2d5875e6-67e7-4757-bf00-1e18a034089b')\"\n",
              "              title=\"Convert this dataframe to an interactive table.\"\n",
              "              style=\"display:none;\">\n",
              "\n",
              "  <svg xmlns=\"http://www.w3.org/2000/svg\" height=\"24px\"viewBox=\"0 0 24 24\"\n",
              "       width=\"24px\">\n",
              "    <path d=\"M0 0h24v24H0V0z\" fill=\"none\"/>\n",
              "    <path d=\"M18.56 5.44l.94 2.06.94-2.06 2.06-.94-2.06-.94-.94-2.06-.94 2.06-2.06.94zm-11 1L8.5 8.5l.94-2.06 2.06-.94-2.06-.94L8.5 2.5l-.94 2.06-2.06.94zm10 10l.94 2.06.94-2.06 2.06-.94-2.06-.94-.94-2.06-.94 2.06-2.06.94z\"/><path d=\"M17.41 7.96l-1.37-1.37c-.4-.4-.92-.59-1.43-.59-.52 0-1.04.2-1.43.59L10.3 9.45l-7.72 7.72c-.78.78-.78 2.05 0 2.83L4 21.41c.39.39.9.59 1.41.59.51 0 1.02-.2 1.41-.59l7.78-7.78 2.81-2.81c.8-.78.8-2.07 0-2.86zM5.41 20L4 18.59l7.72-7.72 1.47 1.35L5.41 20z\"/>\n",
              "  </svg>\n",
              "      </button>\n",
              "\n",
              "\n",
              "\n",
              "    <div id=\"df-c323a005-1dde-47a9-a5f3-57ed0813f84b\">\n",
              "      <button class=\"colab-df-quickchart\" onclick=\"quickchart('df-c323a005-1dde-47a9-a5f3-57ed0813f84b')\"\n",
              "              title=\"Suggest charts.\"\n",
              "              style=\"display:none;\">\n",
              "\n",
              "<svg xmlns=\"http://www.w3.org/2000/svg\" height=\"24px\"viewBox=\"0 0 24 24\"\n",
              "     width=\"24px\">\n",
              "    <g>\n",
              "        <path d=\"M19 3H5c-1.1 0-2 .9-2 2v14c0 1.1.9 2 2 2h14c1.1 0 2-.9 2-2V5c0-1.1-.9-2-2-2zM9 17H7v-7h2v7zm4 0h-2V7h2v10zm4 0h-2v-4h2v4z\"/>\n",
              "    </g>\n",
              "</svg>\n",
              "      </button>\n",
              "    </div>\n",
              "\n",
              "<style>\n",
              "  .colab-df-quickchart {\n",
              "    background-color: #E8F0FE;\n",
              "    border: none;\n",
              "    border-radius: 50%;\n",
              "    cursor: pointer;\n",
              "    display: none;\n",
              "    fill: #1967D2;\n",
              "    height: 32px;\n",
              "    padding: 0 0 0 0;\n",
              "    width: 32px;\n",
              "  }\n",
              "\n",
              "  .colab-df-quickchart:hover {\n",
              "    background-color: #E2EBFA;\n",
              "    box-shadow: 0px 1px 2px rgba(60, 64, 67, 0.3), 0px 1px 3px 1px rgba(60, 64, 67, 0.15);\n",
              "    fill: #174EA6;\n",
              "  }\n",
              "\n",
              "  [theme=dark] .colab-df-quickchart {\n",
              "    background-color: #3B4455;\n",
              "    fill: #D2E3FC;\n",
              "  }\n",
              "\n",
              "  [theme=dark] .colab-df-quickchart:hover {\n",
              "    background-color: #434B5C;\n",
              "    box-shadow: 0px 1px 3px 1px rgba(0, 0, 0, 0.15);\n",
              "    filter: drop-shadow(0px 1px 2px rgba(0, 0, 0, 0.3));\n",
              "    fill: #FFFFFF;\n",
              "  }\n",
              "</style>\n",
              "\n",
              "    <script>\n",
              "      async function quickchart(key) {\n",
              "        const containerElement = document.querySelector('#' + key);\n",
              "        const charts = await google.colab.kernel.invokeFunction(\n",
              "            'suggestCharts', [key], {});\n",
              "      }\n",
              "    </script>\n",
              "\n",
              "      <script>\n",
              "\n",
              "function displayQuickchartButton(domScope) {\n",
              "  let quickchartButtonEl =\n",
              "    domScope.querySelector('#df-c323a005-1dde-47a9-a5f3-57ed0813f84b button.colab-df-quickchart');\n",
              "  quickchartButtonEl.style.display =\n",
              "    google.colab.kernel.accessAllowed ? 'block' : 'none';\n",
              "}\n",
              "\n",
              "        displayQuickchartButton(document);\n",
              "      </script>\n",
              "      <style>\n",
              "    .colab-df-container {\n",
              "      display:flex;\n",
              "      flex-wrap:wrap;\n",
              "      gap: 12px;\n",
              "    }\n",
              "\n",
              "    .colab-df-convert {\n",
              "      background-color: #E8F0FE;\n",
              "      border: none;\n",
              "      border-radius: 50%;\n",
              "      cursor: pointer;\n",
              "      display: none;\n",
              "      fill: #1967D2;\n",
              "      height: 32px;\n",
              "      padding: 0 0 0 0;\n",
              "      width: 32px;\n",
              "    }\n",
              "\n",
              "    .colab-df-convert:hover {\n",
              "      background-color: #E2EBFA;\n",
              "      box-shadow: 0px 1px 2px rgba(60, 64, 67, 0.3), 0px 1px 3px 1px rgba(60, 64, 67, 0.15);\n",
              "      fill: #174EA6;\n",
              "    }\n",
              "\n",
              "    [theme=dark] .colab-df-convert {\n",
              "      background-color: #3B4455;\n",
              "      fill: #D2E3FC;\n",
              "    }\n",
              "\n",
              "    [theme=dark] .colab-df-convert:hover {\n",
              "      background-color: #434B5C;\n",
              "      box-shadow: 0px 1px 3px 1px rgba(0, 0, 0, 0.15);\n",
              "      filter: drop-shadow(0px 1px 2px rgba(0, 0, 0, 0.3));\n",
              "      fill: #FFFFFF;\n",
              "    }\n",
              "  </style>\n",
              "\n",
              "      <script>\n",
              "        const buttonEl =\n",
              "          document.querySelector('#df-2d5875e6-67e7-4757-bf00-1e18a034089b button.colab-df-convert');\n",
              "        buttonEl.style.display =\n",
              "          google.colab.kernel.accessAllowed ? 'block' : 'none';\n",
              "\n",
              "        async function convertToInteractive(key) {\n",
              "          const element = document.querySelector('#df-2d5875e6-67e7-4757-bf00-1e18a034089b');\n",
              "          const dataTable =\n",
              "            await google.colab.kernel.invokeFunction('convertToInteractive',\n",
              "                                                     [key], {});\n",
              "          if (!dataTable) return;\n",
              "\n",
              "          const docLinkHtml = 'Like what you see? Visit the ' +\n",
              "            '<a target=\"_blank\" href=https://colab.research.google.com/notebooks/data_table.ipynb>data table notebook</a>'\n",
              "            + ' to learn more about interactive tables.';\n",
              "          element.innerHTML = '';\n",
              "          dataTable['output_type'] = 'display_data';\n",
              "          await google.colab.output.renderOutput(dataTable, element);\n",
              "          const docLink = document.createElement('div');\n",
              "          docLink.innerHTML = docLinkHtml;\n",
              "          element.appendChild(docLink);\n",
              "        }\n",
              "      </script>\n",
              "    </div>\n",
              "  </div>\n"
            ]
          },
          "metadata": {}
        }
      ]
    },
    {
      "cell_type": "markdown",
      "source": [
        "#### Fake the dataset with 1M entries"
      ],
      "metadata": {
        "id": "1eGD4A-zh02j"
      }
    },
    {
      "cell_type": "code",
      "source": [
        "df = get_dataset(1_000_000)\n",
        "df.shape"
      ],
      "metadata": {
        "colab": {
          "base_uri": "https://localhost:8080/"
        },
        "id": "y6ioQGS9hvAS",
        "outputId": "55870070-62c2-430d-c19a-f10ccb6f19c1"
      },
      "execution_count": 3,
      "outputs": [
        {
          "output_type": "execute_result",
          "data": {
            "text/plain": [
              "(1000000, 5)"
            ]
          },
          "metadata": {},
          "execution_count": 3
        }
      ]
    },
    {
      "cell_type": "code",
      "source": [
        "df.info()"
      ],
      "metadata": {
        "colab": {
          "base_uri": "https://localhost:8080/"
        },
        "id": "HAX294nWgiJ3",
        "outputId": "758899ef-5dd0-4e36-a18a-f95716975af0"
      },
      "execution_count": 4,
      "outputs": [
        {
          "output_type": "stream",
          "name": "stdout",
          "text": [
            "<class 'pandas.core.frame.DataFrame'>\n",
            "RangeIndex: 1000000 entries, 0 to 999999\n",
            "Data columns (total 5 columns):\n",
            " #   Column    Non-Null Count    Dtype  \n",
            "---  ------    --------------    -----  \n",
            " 0   position  1000000 non-null  object \n",
            " 1   age       1000000 non-null  int64  \n",
            " 2   team      1000000 non-null  object \n",
            " 3   win       1000000 non-null  object \n",
            " 4   prob      1000000 non-null  float64\n",
            "dtypes: float64(1), int64(1), object(3)\n",
            "memory usage: 38.1+ MB\n"
          ]
        }
      ]
    },
    {
      "cell_type": "markdown",
      "source": [
        "## Type Cast the Dataset Columns to reduce the size\n",
        "\n",
        "\n",
        "1.   Cast object to category\n",
        "2.   Cast int64 to int16 / int8 ...\n",
        "3.   Cast float64 to float16 / float8 ...\n",
        "4.   Cast object to boolean\n",
        "\n",
        "\n",
        "It will help to reduce the size of Dataset / columns\n",
        "\n",
        "\n",
        "\n",
        "\n",
        "\n"
      ],
      "metadata": {
        "id": "eqS_I-xuicUE"
      }
    },
    {
      "cell_type": "code",
      "source": [
        "def set_dtypes(df):\n",
        "  df['position'] = df['position'].astype('category')\n",
        "  df['age'] = df['age'].astype('int8')\n",
        "  df['team'] = df['team'].astype('category')\n",
        "  df['win'] = df['win'].map({'yes':True, 'no':False})\n",
        "  df['prob'] = df['prob'].astype('float32')\n",
        "  return df"
      ],
      "metadata": {
        "id": "q5aFIkx4gh4i"
      },
      "execution_count": 5,
      "outputs": []
    },
    {
      "cell_type": "code",
      "source": [
        "df = set_dtypes(df)\n",
        "df.shape"
      ],
      "metadata": {
        "colab": {
          "base_uri": "https://localhost:8080/"
        },
        "id": "kzwlauV8ibf6",
        "outputId": "4d7e8bc8-da63-429e-8105-f2119393ad57"
      },
      "execution_count": 7,
      "outputs": [
        {
          "output_type": "execute_result",
          "data": {
            "text/plain": [
              "(1000000, 5)"
            ]
          },
          "metadata": {},
          "execution_count": 7
        }
      ]
    },
    {
      "cell_type": "markdown",
      "source": [
        "#### Test the time Taken by DataFrames"
      ],
      "metadata": {
        "id": "q3XVlr19mla0"
      }
    },
    {
      "cell_type": "code",
      "source": [
        "without_cast_df = get_dataset(1_000_000)\n",
        "%timeit without_cast_df['age_rank'] = without_cast_df.groupby(['team','position'])['age'].rank()\n",
        "%timeit without_cast_df['prob_rank'] = without_cast_df.groupby(['team','position'])['prob'].rank()\n",
        "%timeit without_cast_df['win_prob_rank'] = without_cast_df.groupby(['team','position','win'])['prob'].rank()"
      ],
      "metadata": {
        "id": "LmI_4QPpkJZM",
        "colab": {
          "base_uri": "https://localhost:8080/"
        },
        "outputId": "d586794e-16f4-4ce9-bee3-cf16b3a0a54f"
      },
      "execution_count": 8,
      "outputs": [
        {
          "output_type": "stream",
          "name": "stdout",
          "text": [
            "252 ms ± 5.88 ms per loop (mean ± std. dev. of 7 runs, 1 loop each)\n",
            "344 ms ± 3.6 ms per loop (mean ± std. dev. of 7 runs, 1 loop each)\n",
            "455 ms ± 77.8 ms per loop (mean ± std. dev. of 7 runs, 1 loop each)\n"
          ]
        }
      ]
    },
    {
      "cell_type": "code",
      "source": [
        "without_cast_df = get_dataset(1_000_000)\n",
        "without_cast_df = set_dtypes(without_cast_df)\n",
        "%timeit without_cast_df['age_rank'] = without_cast_df.groupby(['team','position'])['age'].rank()\n",
        "%timeit without_cast_df['prob_rank'] = without_cast_df.groupby(['team','position'])['prob'].rank()\n",
        "%timeit without_cast_df['win_prob_rank'] = without_cast_df.groupby(['team','position','win'])['prob'].rank()"
      ],
      "metadata": {
        "colab": {
          "base_uri": "https://localhost:8080/"
        },
        "id": "f7noreqFoUlX",
        "outputId": "91c38437-3d92-4b46-b649-d5b8a2b21d72"
      },
      "execution_count": 9,
      "outputs": [
        {
          "output_type": "stream",
          "name": "stdout",
          "text": [
            "116 ms ± 16.7 ms per loop (mean ± std. dev. of 7 runs, 10 loops each)\n",
            "246 ms ± 13 ms per loop (mean ± std. dev. of 7 runs, 1 loop each)\n",
            "262 ms ± 9.92 ms per loop (mean ± std. dev. of 7 runs, 1 loop each)\n"
          ]
        }
      ]
    },
    {
      "cell_type": "code",
      "source": [
        "# Dataset also has 10 times larger\n",
        "without_cast_df = get_dataset(10_000_000)\n",
        "%timeit without_cast_df['age_rank'] = without_cast_df.groupby(['team','position'])['age'].rank()\n",
        "%timeit without_cast_df['prob_rank'] = without_cast_df.groupby(['team','position'])['prob'].rank()\n",
        "%timeit without_cast_df['win_prob_rank'] = without_cast_df.groupby(['team','position','win'])['prob'].rank()"
      ],
      "metadata": {
        "colab": {
          "base_uri": "https://localhost:8080/"
        },
        "id": "zjwrMFN-mkqb",
        "outputId": "6fc708b1-4fa7-4b7e-d53e-0d0de36f5aa4"
      },
      "execution_count": 10,
      "outputs": [
        {
          "output_type": "stream",
          "name": "stdout",
          "text": [
            "3.5 s ± 239 ms per loop (mean ± std. dev. of 7 runs, 1 loop each)\n",
            "4.96 s ± 167 ms per loop (mean ± std. dev. of 7 runs, 1 loop each)\n",
            "5.8 s ± 517 ms per loop (mean ± std. dev. of 7 runs, 1 loop each)\n"
          ]
        }
      ]
    },
    {
      "cell_type": "code",
      "source": [
        "# Dataset also has 10 times larger\n",
        "without_cast_df = get_dataset(10_000_000)\n",
        "without_cast_df = set_dtypes(without_cast_df)\n",
        "%timeit without_cast_df['age_rank'] = without_cast_df.groupby(['team','position'])['age'].rank()\n",
        "%timeit without_cast_df['prob_rank'] = without_cast_df.groupby(['team','position'])['prob'].rank()\n",
        "%timeit without_cast_df['win_prob_rank'] = without_cast_df.groupby(['team','position','win'])['prob'].rank()"
      ],
      "metadata": {
        "colab": {
          "base_uri": "https://localhost:8080/"
        },
        "id": "AIY4Dss8mkso",
        "outputId": "2fb2dfee-7e18-4531-9ae8-03b8134336d8"
      },
      "execution_count": 11,
      "outputs": [
        {
          "output_type": "stream",
          "name": "stdout",
          "text": [
            "2.25 s ± 359 ms per loop (mean ± std. dev. of 7 runs, 1 loop each)\n",
            "4.17 s ± 270 ms per loop (mean ± std. dev. of 7 runs, 1 loop each)\n",
            "4.42 s ± 266 ms per loop (mean ± std. dev. of 7 runs, 1 loop each)\n"
          ]
        }
      ]
    },
    {
      "cell_type": "markdown",
      "source": [
        "# Can save the Disk Space and Time by Casting the Pandas Columns"
      ],
      "metadata": {
        "id": "w6ykYy1LpRwf"
      }
    },
    {
      "cell_type": "code",
      "source": [],
      "metadata": {
        "id": "rt97yl06pqEF"
      },
      "execution_count": null,
      "outputs": []
    }
  ]
}